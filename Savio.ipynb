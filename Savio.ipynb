{
  "nbformat": 4,
  "nbformat_minor": 0,
  "metadata": {
    "colab": {
      "name": "Savio.ipynb",
      "version": "0.3.2",
      "provenance": [],
      "collapsed_sections": [],
      "include_colab_link": true
    },
    "kernelspec": {
      "name": "python3",
      "display_name": "Python 3"
    }
  },
  "cells": [
    {
      "cell_type": "markdown",
      "metadata": {
        "id": "view-in-github",
        "colab_type": "text"
      },
      "source": [
        "<a href=\"https://colab.research.google.com/github/Savimbi/tutorials/blob/master/Savio.ipynb\" target=\"_parent\"><img src=\"https://colab.research.google.com/assets/colab-badge.svg\" alt=\"Open In Colab\"/></a>"
      ]
    },
    {
      "metadata": {
        "id": "09Gt0ySmCUkm",
        "colab_type": "code",
        "outputId": "250b4045-9fb3-4a7c-c045-99528f256951",
        "colab": {
          "base_uri": "https://localhost:8080/",
          "height": 34
        }
      },
      "cell_type": "code",
      "source": [
        "print(\"Hello Savio!\")"
      ],
      "execution_count": 0,
      "outputs": [
        {
          "output_type": "stream",
          "text": [
            "Hello Savio!\n"
          ],
          "name": "stdout"
        }
      ]
    },
    {
      "metadata": {
        "id": "J4Rq5x83GvOR",
        "colab_type": "text"
      },
      "cell_type": "markdown",
      "source": [
        "Thi is networking code!"
      ]
    },
    {
      "metadata": {
        "id": "fUelmfFkHQ1Q",
        "colab_type": "code",
        "colab": {
          "base_uri": "https://localhost:8080/",
          "height": 34
        },
        "outputId": "216cfe11-0322-4e4e-a01e-e43e73451272"
      },
      "cell_type": "code",
      "source": [
        "6%8"
      ],
      "execution_count": 5,
      "outputs": [
        {
          "output_type": "execute_result",
          "data": {
            "text/plain": [
              "6"
            ]
          },
          "metadata": {
            "tags": []
          },
          "execution_count": 5
        }
      ]
    },
    {
      "metadata": {
        "id": "h8paeISoINbP",
        "colab_type": "code",
        "colab": {}
      },
      "cell_type": "code",
      "source": [
        "a=\"3\"\n",
        "b=\"kigali\"\n"
      ],
      "execution_count": 0,
      "outputs": []
    },
    {
      "metadata": {
        "id": "0O713lddIiFf",
        "colab_type": "code",
        "colab": {
          "base_uri": "https://localhost:8080/",
          "height": 34
        },
        "outputId": "cf7d8eec-fdac-4e84-88e4-dd1c14051823"
      },
      "cell_type": "code",
      "source": [
        "a+b\n"
      ],
      "execution_count": 12,
      "outputs": [
        {
          "output_type": "execute_result",
          "data": {
            "text/plain": [
              "'3kigali'"
            ]
          },
          "metadata": {
            "tags": []
          },
          "execution_count": 12
        }
      ]
    },
    {
      "metadata": {
        "id": "kzDYboOmPQlV",
        "colab_type": "code",
        "colab": {
          "base_uri": "https://localhost:8080/",
          "height": 51
        },
        "outputId": "7652fdf9-6384-4c06-b394-650b9786a9a5"
      },
      "cell_type": "code",
      "source": [
        "r=5\n",
        "a=r**2*3.14\n",
        "print(\"For radius=5, Area=\",a)\n",
        "r=10\n",
        "a=r**2*3.14\n",
        "print(\"For radius=10, Area=\",a)\n"
      ],
      "execution_count": 17,
      "outputs": [
        {
          "output_type": "stream",
          "text": [
            "For radius=5, Area= 78.5\n",
            "For radius=10, Area= 314.0\n"
          ],
          "name": "stdout"
        }
      ]
    },
    {
      "metadata": {
        "id": "I1-ML2Z1QvOE",
        "colab_type": "code",
        "colab": {
          "base_uri": "https://localhost:8080/",
          "height": 34
        },
        "outputId": "e34864ad-8a76-4c8b-c155-7f0b249acb6e"
      },
      "cell_type": "code",
      "source": [
        "apple=100\n",
        "qty=20\n",
        "price=apple*qty\n",
        "if qty>=10:\n",
        "  price=price*(1-0.3)\n",
        "elif qty>=5:\n",
        "  price=price*(1-0.2)\n",
        "else:\n",
        "  pass\n",
        "print(price)"
      ],
      "execution_count": 25,
      "outputs": [
        {
          "output_type": "stream",
          "text": [
            "1400.0\n"
          ],
          "name": "stdout"
        }
      ]
    },
    {
      "metadata": {
        "id": "eclji0xQWzB3",
        "colab_type": "code",
        "colab": {
          "base_uri": "https://localhost:8080/",
          "height": 51
        },
        "outputId": "1eb62e8f-a7f4-4456-ab59-542cf9708826"
      },
      "cell_type": "code",
      "source": [
        "teachers=[\"Shima\",\"Miyasaka\",\"Yokohama\",\"Ito\",\"Tsichida\"]\n",
        "\n",
        "print(teachers[2])\n",
        "teachers.sort()\n",
        "print(teachers)"
      ],
      "execution_count": 31,
      "outputs": [
        {
          "output_type": "stream",
          "text": [
            "Yokohama\n",
            "['Ito', 'Miyasaka', 'Shima', 'Tsichida', 'Yokohama']\n"
          ],
          "name": "stdout"
        }
      ]
    },
    {
      "metadata": {
        "id": "26v-n0HSZiIx",
        "colab_type": "code",
        "colab": {
          "base_uri": "https://localhost:8080/",
          "height": 34
        },
        "outputId": "58a80bcd-9f2c-4d61-c2ea-ab35dfe0136d"
      },
      "cell_type": "code",
      "source": [
        "price={\"Apple\":100,\"Banana\":50, \"pineapple\":200}\n",
        "price[\"Banana\"]"
      ],
      "execution_count": 34,
      "outputs": [
        {
          "output_type": "execute_result",
          "data": {
            "text/plain": [
              "50"
            ]
          },
          "metadata": {
            "tags": []
          },
          "execution_count": 34
        }
      ]
    }
  ]
}